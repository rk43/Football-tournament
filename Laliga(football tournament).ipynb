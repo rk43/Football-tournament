{
 "cells": [
  {
   "cell_type": "markdown",
   "metadata": {},
   "source": [
    "## La Liga Cup (Football tournament)"
   ]
  },
  {
   "cell_type": "code",
   "execution_count": 1,
   "metadata": {},
   "outputs": [],
   "source": [
    "import pandas as pd"
   ]
  },
  {
   "cell_type": "markdown",
   "metadata": {},
   "source": [
    "### 1.Read the data set and replace dashes with 0 to make sure you can perform arithmetic operations on the data."
   ]
  },
  {
   "cell_type": "code",
   "execution_count": 7,
   "metadata": {},
   "outputs": [
    {
     "data": {
      "text/html": [
       "<div>\n",
       "<style scoped>\n",
       "    .dataframe tbody tr th:only-of-type {\n",
       "        vertical-align: middle;\n",
       "    }\n",
       "\n",
       "    .dataframe tbody tr th {\n",
       "        vertical-align: top;\n",
       "    }\n",
       "\n",
       "    .dataframe thead th {\n",
       "        text-align: right;\n",
       "    }\n",
       "</style>\n",
       "<table border=\"1\" class=\"dataframe\">\n",
       "  <thead>\n",
       "    <tr style=\"text-align: right;\">\n",
       "      <th></th>\n",
       "      <th>Pos</th>\n",
       "      <th>Team</th>\n",
       "      <th>Seasons</th>\n",
       "      <th>Points</th>\n",
       "      <th>GamesPlayed</th>\n",
       "      <th>GamesWon</th>\n",
       "      <th>GamesDrawn</th>\n",
       "      <th>GamesLost</th>\n",
       "      <th>GoalsFor</th>\n",
       "      <th>GoalsAgainst</th>\n",
       "      <th>Champion</th>\n",
       "      <th>Runner-up</th>\n",
       "      <th>Third</th>\n",
       "      <th>Fourth</th>\n",
       "      <th>Fifth</th>\n",
       "      <th>Sixth</th>\n",
       "      <th>T</th>\n",
       "      <th>Debut</th>\n",
       "      <th>Since/LastApp</th>\n",
       "      <th>BestPosition</th>\n",
       "    </tr>\n",
       "  </thead>\n",
       "  <tbody>\n",
       "    <tr>\n",
       "      <td>56</td>\n",
       "      <td>57</td>\n",
       "      <td>Xerez</td>\n",
       "      <td>1</td>\n",
       "      <td>34.0</td>\n",
       "      <td>38.0</td>\n",
       "      <td>8.0</td>\n",
       "      <td>10.0</td>\n",
       "      <td>20.0</td>\n",
       "      <td>38.0</td>\n",
       "      <td>66.0</td>\n",
       "      <td>0.0</td>\n",
       "      <td>0.0</td>\n",
       "      <td>0.0</td>\n",
       "      <td>0.0</td>\n",
       "      <td>0.0</td>\n",
       "      <td>0.0</td>\n",
       "      <td>0.0</td>\n",
       "      <td>2009-10</td>\n",
       "      <td>2009-10</td>\n",
       "      <td>20</td>\n",
       "    </tr>\n",
       "    <tr>\n",
       "      <td>57</td>\n",
       "      <td>58</td>\n",
       "      <td>Condal</td>\n",
       "      <td>1</td>\n",
       "      <td>22.0</td>\n",
       "      <td>30.0</td>\n",
       "      <td>7.0</td>\n",
       "      <td>8.0</td>\n",
       "      <td>15.0</td>\n",
       "      <td>37.0</td>\n",
       "      <td>57.0</td>\n",
       "      <td>0.0</td>\n",
       "      <td>0.0</td>\n",
       "      <td>0.0</td>\n",
       "      <td>0.0</td>\n",
       "      <td>0.0</td>\n",
       "      <td>0.0</td>\n",
       "      <td>0.0</td>\n",
       "      <td>1956-57</td>\n",
       "      <td>1956-57</td>\n",
       "      <td>16</td>\n",
       "    </tr>\n",
       "    <tr>\n",
       "      <td>58</td>\n",
       "      <td>59</td>\n",
       "      <td>Atletico Tetuan</td>\n",
       "      <td>1</td>\n",
       "      <td>19.0</td>\n",
       "      <td>30.0</td>\n",
       "      <td>7.0</td>\n",
       "      <td>5.0</td>\n",
       "      <td>18.0</td>\n",
       "      <td>51.0</td>\n",
       "      <td>85.0</td>\n",
       "      <td>0.0</td>\n",
       "      <td>0.0</td>\n",
       "      <td>0.0</td>\n",
       "      <td>0.0</td>\n",
       "      <td>0.0</td>\n",
       "      <td>0.0</td>\n",
       "      <td>0.0</td>\n",
       "      <td>1951-52</td>\n",
       "      <td>1951-52</td>\n",
       "      <td>16</td>\n",
       "    </tr>\n",
       "    <tr>\n",
       "      <td>59</td>\n",
       "      <td>60</td>\n",
       "      <td>Cultural Leonesa</td>\n",
       "      <td>1</td>\n",
       "      <td>14.0</td>\n",
       "      <td>30.0</td>\n",
       "      <td>5.0</td>\n",
       "      <td>4.0</td>\n",
       "      <td>21.0</td>\n",
       "      <td>34.0</td>\n",
       "      <td>65.0</td>\n",
       "      <td>0.0</td>\n",
       "      <td>0.0</td>\n",
       "      <td>0.0</td>\n",
       "      <td>0.0</td>\n",
       "      <td>0.0</td>\n",
       "      <td>0.0</td>\n",
       "      <td>0.0</td>\n",
       "      <td>1955-56</td>\n",
       "      <td>1955-56</td>\n",
       "      <td>15</td>\n",
       "    </tr>\n",
       "    <tr>\n",
       "      <td>60</td>\n",
       "      <td>61</td>\n",
       "      <td>Girona</td>\n",
       "      <td>1</td>\n",
       "      <td>0.0</td>\n",
       "      <td>0.0</td>\n",
       "      <td>0.0</td>\n",
       "      <td>0.0</td>\n",
       "      <td>0.0</td>\n",
       "      <td>0.0</td>\n",
       "      <td>0.0</td>\n",
       "      <td>0.0</td>\n",
       "      <td>0.0</td>\n",
       "      <td>0.0</td>\n",
       "      <td>0.0</td>\n",
       "      <td>0.0</td>\n",
       "      <td>0.0</td>\n",
       "      <td>0.0</td>\n",
       "      <td>2017-18</td>\n",
       "      <td>2017-18</td>\n",
       "      <td>9</td>\n",
       "    </tr>\n",
       "  </tbody>\n",
       "</table>\n",
       "</div>"
      ],
      "text/plain": [
       "    Pos              Team  Seasons  Points  GamesPlayed  GamesWon  GamesDrawn  \\\n",
       "56   57             Xerez        1    34.0         38.0       8.0        10.0   \n",
       "57   58            Condal        1    22.0         30.0       7.0         8.0   \n",
       "58   59   Atletico Tetuan        1    19.0         30.0       7.0         5.0   \n",
       "59   60  Cultural Leonesa        1    14.0         30.0       5.0         4.0   \n",
       "60   61            Girona        1     0.0          0.0       0.0         0.0   \n",
       "\n",
       "    GamesLost  GoalsFor  GoalsAgainst  Champion  Runner-up  Third  Fourth  \\\n",
       "56       20.0      38.0          66.0       0.0        0.0    0.0     0.0   \n",
       "57       15.0      37.0          57.0       0.0        0.0    0.0     0.0   \n",
       "58       18.0      51.0          85.0       0.0        0.0    0.0     0.0   \n",
       "59       21.0      34.0          65.0       0.0        0.0    0.0     0.0   \n",
       "60        0.0       0.0           0.0       0.0        0.0    0.0     0.0   \n",
       "\n",
       "    Fifth  Sixth    T    Debut Since/LastApp  BestPosition  \n",
       "56    0.0    0.0  0.0  2009-10       2009-10            20  \n",
       "57    0.0    0.0  0.0  1956-57       1956-57            16  \n",
       "58    0.0    0.0  0.0  1951-52       1951-52            16  \n",
       "59    0.0    0.0  0.0  1955-56       1955-56            15  \n",
       "60    0.0    0.0  0.0  2017-18       2017-18             9  "
      ]
     },
     "execution_count": 7,
     "metadata": {},
     "output_type": "execute_result"
    }
   ],
   "source": [
    "laliga=pd.read_csv(\"Laliga.csv\",header=1,na_values=[\"-\"])\n",
    "laliga.fillna(0,inplace=True)\n",
    "laliga.tail()"
   ]
  },
  {
   "cell_type": "markdown",
   "metadata": {},
   "source": [
    "### 2. Print all the teams which have started playing between 1930-1980."
   ]
  },
  {
   "cell_type": "code",
   "execution_count": 10,
   "metadata": {},
   "outputs": [],
   "source": [
    "def parseDebutYear(val):\n",
    "    if (len(val) == 4):\n",
    "        return int(val)\n",
    "    elif (len(val) == 7):\n",
    "        return int(val[0:4])\n",
    "    else:\n",
    "        print(\"Invalid Value passed\", val)\n",
    "        return None\n",
    "\n",
    "laliga[\"DebutYear\"]=laliga[\"Debut\"].apply(parseDebutYear)"
   ]
  },
  {
   "cell_type": "code",
   "execution_count": 11,
   "metadata": {},
   "outputs": [
    {
     "data": {
      "text/plain": [
       "3                Valencia\n",
       "5                 Sevilla\n",
       "8                Zaragoza\n",
       "9              Real Betis\n",
       "10    Deportivo La Coruna\n",
       "11             Celta Vigo\n",
       "12             Valladolid\n",
       "14         Sporting Gijon\n",
       "15                Osasuna\n",
       "16                 Malaga\n",
       "17                 Oviedo\n",
       "18               Mallorca\n",
       "19             Las Palmas\n",
       "21                Granada\n",
       "22         Rayo Vallecano\n",
       "23                  Elche\n",
       "25               Hercules\n",
       "26               Tenerife\n",
       "27                 Murcia\n",
       "28                 Alaves\n",
       "29                Levante\n",
       "30              Salamanca\n",
       "31               Sabadell\n",
       "32                  Cadiz\n",
       "34              Castellon\n",
       "37                Cordoba\n",
       "39             Recreativo\n",
       "40              Burgos CF\n",
       "41             Pontevedra\n",
       "46              Gimnastic\n",
       "49               Alcoyano\n",
       "50                   Jaen\n",
       "52             AD Almeria\n",
       "54                 Lleida\n",
       "57                 Condal\n",
       "58        Atletico Tetuan\n",
       "59       Cultural Leonesa\n",
       "Name: Team, dtype: object"
      ]
     },
     "execution_count": 11,
     "metadata": {},
     "output_type": "execute_result"
    }
   ],
   "source": [
    "TEAMS_BETWN_1930_AND_1980 = laliga[(laliga[\"DebutYear\"] >= 1930) & (laliga[\"DebutYear\"] <= 1980)]\n",
    "TEAMS_BETWN_1930_AND_1980[\"Team\"]"
   ]
  },
  {
   "cell_type": "markdown",
   "metadata": {},
   "source": [
    "### 3. Print the list of teams which came Top 5 in terms of points"
   ]
  },
  {
   "cell_type": "code",
   "execution_count": 12,
   "metadata": {},
   "outputs": [
    {
     "data": {
      "text/plain": [
       "0        Real Madrid\n",
       "1          Barcelona\n",
       "2    Atletico Madrid\n",
       "3           Valencia\n",
       "4    Athletic Bilbao\n",
       "Name: Team, dtype: object"
      ]
     },
     "execution_count": 12,
     "metadata": {},
     "output_type": "execute_result"
    }
   ],
   "source": [
    "laliga.nlargest(5,\"Points\")[\"Team\"]"
   ]
  },
  {
   "cell_type": "markdown",
   "metadata": {},
   "source": [
    "### 4. Write a function with name “Goal_diff_count” which should return all the teams with their Goal Differences. Using the same function, find the team which has maximum and minimum goal difference."
   ]
  },
  {
   "cell_type": "markdown",
   "metadata": {},
   "source": [
    "#### Goal_diff_count = GoalsFor - GoalsAgainst"
   ]
  },
  {
   "cell_type": "code",
   "execution_count": 16,
   "metadata": {},
   "outputs": [
    {
     "data": {
      "text/html": [
       "<div>\n",
       "<style scoped>\n",
       "    .dataframe tbody tr th:only-of-type {\n",
       "        vertical-align: middle;\n",
       "    }\n",
       "\n",
       "    .dataframe tbody tr th {\n",
       "        vertical-align: top;\n",
       "    }\n",
       "\n",
       "    .dataframe thead th {\n",
       "        text-align: right;\n",
       "    }\n",
       "</style>\n",
       "<table border=\"1\" class=\"dataframe\">\n",
       "  <thead>\n",
       "    <tr style=\"text-align: right;\">\n",
       "      <th></th>\n",
       "      <th>Team</th>\n",
       "      <th>Goal_diff_count</th>\n",
       "    </tr>\n",
       "  </thead>\n",
       "  <tbody>\n",
       "    <tr>\n",
       "      <td>0</td>\n",
       "      <td>Real Madrid</td>\n",
       "      <td>2807.0</td>\n",
       "    </tr>\n",
       "    <tr>\n",
       "      <td>1</td>\n",
       "      <td>Barcelona</td>\n",
       "      <td>2786.0</td>\n",
       "    </tr>\n",
       "    <tr>\n",
       "      <td>2</td>\n",
       "      <td>Atletico Madrid</td>\n",
       "      <td>1225.0</td>\n",
       "    </tr>\n",
       "    <tr>\n",
       "      <td>3</td>\n",
       "      <td>Valencia</td>\n",
       "      <td>929.0</td>\n",
       "    </tr>\n",
       "    <tr>\n",
       "      <td>4</td>\n",
       "      <td>Athletic Bilbao</td>\n",
       "      <td>931.0</td>\n",
       "    </tr>\n",
       "    <tr>\n",
       "      <td>...</td>\n",
       "      <td>...</td>\n",
       "      <td>...</td>\n",
       "    </tr>\n",
       "    <tr>\n",
       "      <td>56</td>\n",
       "      <td>Xerez</td>\n",
       "      <td>-28.0</td>\n",
       "    </tr>\n",
       "    <tr>\n",
       "      <td>57</td>\n",
       "      <td>Condal</td>\n",
       "      <td>-20.0</td>\n",
       "    </tr>\n",
       "    <tr>\n",
       "      <td>58</td>\n",
       "      <td>Atletico Tetuan</td>\n",
       "      <td>-34.0</td>\n",
       "    </tr>\n",
       "    <tr>\n",
       "      <td>59</td>\n",
       "      <td>Cultural Leonesa</td>\n",
       "      <td>-31.0</td>\n",
       "    </tr>\n",
       "    <tr>\n",
       "      <td>60</td>\n",
       "      <td>Girona</td>\n",
       "      <td>0.0</td>\n",
       "    </tr>\n",
       "  </tbody>\n",
       "</table>\n",
       "<p>61 rows × 2 columns</p>\n",
       "</div>"
      ],
      "text/plain": [
       "                Team  Goal_diff_count\n",
       "0        Real Madrid           2807.0\n",
       "1          Barcelona           2786.0\n",
       "2    Atletico Madrid           1225.0\n",
       "3           Valencia            929.0\n",
       "4    Athletic Bilbao            931.0\n",
       "..               ...              ...\n",
       "56             Xerez            -28.0\n",
       "57            Condal            -20.0\n",
       "58   Atletico Tetuan            -34.0\n",
       "59  Cultural Leonesa            -31.0\n",
       "60            Girona              0.0\n",
       "\n",
       "[61 rows x 2 columns]"
      ]
     },
     "execution_count": 16,
     "metadata": {},
     "output_type": "execute_result"
    }
   ],
   "source": [
    "def Goal_diff_count(DF):\n",
    "    DF1 = DF[[\"Team\"]].copy()\n",
    "    DF1[\"Goal_diff_count\"] = DF[\"GoalsFor\"] - DF[\"GoalsAgainst\"]\n",
    "    return DF1\n",
    "    \n",
    "DF1 = Goal_diff_count(laliga)\n",
    "DF1"
   ]
  },
  {
   "cell_type": "code",
   "execution_count": 17,
   "metadata": {},
   "outputs": [
    {
     "name": "stdout",
     "output_type": "stream",
     "text": [
      "Team with Maximum Goal Difference --  Real Madrid\n",
      "Team with Minimum Goal Difference --  Racing Santander\n"
     ]
    }
   ],
   "source": [
    "SORTED_DF1 = DF1.sort_values(by=\"Goal_diff_count\", ascending=False)\n",
    "print(\"Team with Maximum Goal Difference -- \", SORTED_DF1.head(1).iloc[0, 0])\n",
    "\n",
    "print(\"Team with Minimum Goal Difference -- \", SORTED_DF1.tail(1).iloc[0, 0])"
   ]
  },
  {
   "cell_type": "markdown",
   "metadata": {},
   "source": [
    "### 5. Create a new column with name “Winning Percent” and append it to the data set \n",
    "\n",
    "#### Percentage of Winning = (GamesWon / GamesPlayed)*100\n",
    "\n",
    "#### If there are any numerical error, replace it with 0%\n"
   ]
  },
  {
   "cell_type": "code",
   "execution_count": 18,
   "metadata": {},
   "outputs": [
    {
     "data": {
      "text/html": [
       "<div>\n",
       "<style scoped>\n",
       "    .dataframe tbody tr th:only-of-type {\n",
       "        vertical-align: middle;\n",
       "    }\n",
       "\n",
       "    .dataframe tbody tr th {\n",
       "        vertical-align: top;\n",
       "    }\n",
       "\n",
       "    .dataframe thead th {\n",
       "        text-align: right;\n",
       "    }\n",
       "</style>\n",
       "<table border=\"1\" class=\"dataframe\">\n",
       "  <thead>\n",
       "    <tr style=\"text-align: right;\">\n",
       "      <th></th>\n",
       "      <th>Team</th>\n",
       "      <th>Winning Percent</th>\n",
       "    </tr>\n",
       "  </thead>\n",
       "  <tbody>\n",
       "    <tr>\n",
       "      <td>0</td>\n",
       "      <td>Real Madrid</td>\n",
       "      <td>59.630702</td>\n",
       "    </tr>\n",
       "    <tr>\n",
       "      <td>1</td>\n",
       "      <td>Barcelona</td>\n",
       "      <td>57.241130</td>\n",
       "    </tr>\n",
       "    <tr>\n",
       "      <td>2</td>\n",
       "      <td>Atletico Madrid</td>\n",
       "      <td>47.475134</td>\n",
       "    </tr>\n",
       "    <tr>\n",
       "      <td>3</td>\n",
       "      <td>Valencia</td>\n",
       "      <td>44.557057</td>\n",
       "    </tr>\n",
       "    <tr>\n",
       "      <td>4</td>\n",
       "      <td>Athletic Bilbao</td>\n",
       "      <td>43.772629</td>\n",
       "    </tr>\n",
       "  </tbody>\n",
       "</table>\n",
       "</div>"
      ],
      "text/plain": [
       "              Team  Winning Percent\n",
       "0      Real Madrid        59.630702\n",
       "1        Barcelona        57.241130\n",
       "2  Atletico Madrid        47.475134\n",
       "3         Valencia        44.557057\n",
       "4  Athletic Bilbao        43.772629"
      ]
     },
     "execution_count": 18,
     "metadata": {},
     "output_type": "execute_result"
    }
   ],
   "source": [
    "laliga['Winning Percent'] = laliga['GamesWon'].divide(laliga['GamesPlayed'], fill_value=1) * 100\n",
    "laliga['Winning Percent'].fillna(0, inplace=True)\n",
    "laliga[[\"Team\", \"Winning Percent\"]].head()"
   ]
  },
  {
   "cell_type": "markdown",
   "metadata": {},
   "source": [
    "#### Print the top 5 teams which has the highest Winning percentage"
   ]
  },
  {
   "cell_type": "code",
   "execution_count": 19,
   "metadata": {},
   "outputs": [
    {
     "data": {
      "text/html": [
       "<div>\n",
       "<style scoped>\n",
       "    .dataframe tbody tr th:only-of-type {\n",
       "        vertical-align: middle;\n",
       "    }\n",
       "\n",
       "    .dataframe tbody tr th {\n",
       "        vertical-align: top;\n",
       "    }\n",
       "\n",
       "    .dataframe thead th {\n",
       "        text-align: right;\n",
       "    }\n",
       "</style>\n",
       "<table border=\"1\" class=\"dataframe\">\n",
       "  <thead>\n",
       "    <tr style=\"text-align: right;\">\n",
       "      <th></th>\n",
       "      <th>Team</th>\n",
       "      <th>Winning Percent</th>\n",
       "    </tr>\n",
       "  </thead>\n",
       "  <tbody>\n",
       "    <tr>\n",
       "      <td>0</td>\n",
       "      <td>Real Madrid</td>\n",
       "      <td>59.630702</td>\n",
       "    </tr>\n",
       "    <tr>\n",
       "      <td>1</td>\n",
       "      <td>Barcelona</td>\n",
       "      <td>57.241130</td>\n",
       "    </tr>\n",
       "    <tr>\n",
       "      <td>2</td>\n",
       "      <td>Atletico Madrid</td>\n",
       "      <td>47.475134</td>\n",
       "    </tr>\n",
       "    <tr>\n",
       "      <td>3</td>\n",
       "      <td>Valencia</td>\n",
       "      <td>44.557057</td>\n",
       "    </tr>\n",
       "    <tr>\n",
       "      <td>4</td>\n",
       "      <td>Athletic Bilbao</td>\n",
       "      <td>43.772629</td>\n",
       "    </tr>\n",
       "  </tbody>\n",
       "</table>\n",
       "</div>"
      ],
      "text/plain": [
       "              Team  Winning Percent\n",
       "0      Real Madrid        59.630702\n",
       "1        Barcelona        57.241130\n",
       "2  Atletico Madrid        47.475134\n",
       "3         Valencia        44.557057\n",
       "4  Athletic Bilbao        43.772629"
      ]
     },
     "execution_count": 19,
     "metadata": {},
     "output_type": "execute_result"
    }
   ],
   "source": [
    "SORTED_DF2 = laliga.sort_values(by=\"Winning Percent\", ascending=False)\n",
    "SORTED_DF2[[\"Team\", \"Winning Percent\"]].head()"
   ]
  },
  {
   "cell_type": "markdown",
   "metadata": {},
   "source": [
    "### 6. Group teams based on their “Best position” and print the sum of their points for all positions"
   ]
  },
  {
   "cell_type": "code",
   "execution_count": 20,
   "metadata": {},
   "outputs": [
    {
     "data": {
      "text/plain": [
       "BestPosition\n",
       "1     27933.0\n",
       "2      6904.0\n",
       "3      5221.0\n",
       "4      6563.0\n",
       "5      1884.0\n",
       "6      2113.0\n",
       "7      1186.0\n",
       "8      1134.0\n",
       "9        96.0\n",
       "10      450.0\n",
       "11      445.0\n",
       "12      511.0\n",
       "14       71.0\n",
       "15       14.0\n",
       "16       81.0\n",
       "17      266.0\n",
       "19       81.0\n",
       "20       34.0\n",
       "Name: Points, dtype: float64"
      ]
     },
     "execution_count": 20,
     "metadata": {},
     "output_type": "execute_result"
    }
   ],
   "source": [
    "laliga.groupby(by=\"BestPosition\")[\"Points\"].sum()"
   ]
  },
  {
   "cell_type": "code",
   "execution_count": null,
   "metadata": {},
   "outputs": [],
   "source": []
  },
  {
   "cell_type": "code",
   "execution_count": null,
   "metadata": {},
   "outputs": [],
   "source": []
  },
  {
   "cell_type": "code",
   "execution_count": null,
   "metadata": {},
   "outputs": [],
   "source": []
  },
  {
   "cell_type": "code",
   "execution_count": null,
   "metadata": {},
   "outputs": [],
   "source": []
  },
  {
   "cell_type": "code",
   "execution_count": null,
   "metadata": {},
   "outputs": [],
   "source": []
  },
  {
   "cell_type": "code",
   "execution_count": null,
   "metadata": {},
   "outputs": [],
   "source": []
  }
 ],
 "metadata": {
  "kernelspec": {
   "display_name": "Python 3",
   "language": "python",
   "name": "python3"
  },
  "language_info": {
   "codemirror_mode": {
    "name": "ipython",
    "version": 3
   },
   "file_extension": ".py",
   "mimetype": "text/x-python",
   "name": "python",
   "nbconvert_exporter": "python",
   "pygments_lexer": "ipython3",
   "version": "3.7.4"
  }
 },
 "nbformat": 4,
 "nbformat_minor": 2
}
